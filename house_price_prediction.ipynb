{
 "cells": [
  {
   "cell_type": "markdown",
   "metadata": {},
   "source": [
    "tema:\n",
    "\n",
    "    Premenne, ktore ovplyvnuju vyvoj cien nehnutelnosti v New Yourku\n",
    "\n",
    "dataset:\n",
    "\n",
    "    -ceny nehnutelnosti v New Yourku od roku 2007 do roku 2017\n",
    "    https://www.kaggle.com/s0myaj/nyc-annualized-sales-data\n",
    "\n",
    "    -má 21 atribútov:\n",
    "\n",
    "        NEIGHBORHOOD\n",
    "        BUILDING CLASS CATEGORY\n",
    "        LOT\n",
    "        ADDRESS\n",
    "        ZIP CODE\n",
    "        RESIDENTIAL UNITS\n",
    "        COMMERCIAL UNITS\n",
    "        TOTAL UNITS\n",
    "        LAND SQUARE FEET\n",
    "        GROSS SQUARE FEET\n",
    "        YEAR BUILT\n",
    "        TAX CLASS AT TIME OF SALE\n",
    "        BUILDING CLASS AT TIME OF SALE\n",
    "        SALE PRICE\n",
    "        SALE DATE\n",
    "        ...\n"
   ]
  },
  {
   "cell_type": "markdown",
   "metadata": {},
   "source": [
    "3 hypotezy:\n",
    "\n",
    "    - Nehnutelnosti v okoli central parku su drahsie nez tie vzdialene od central \n",
    "      parku s podobnymi parametrami\n",
    "    - Cenu nehnuteľnosti je možné predikovať na základe jej atribútov (brat do uvahy inflaciu)\n",
    "    - S pomocou Bayesovskej štatistiky vieme predikovať cenovú kategóriu nehnuteľnosti ?\n",
    "    \n",
    "    - S pomocou rain forrest vieme predikovať cenovú kategóriu nehnuteľnosti ?"
   ]
  }
 ],
 "metadata": {
  "language_info": {
   "name": "python"
  },
  "orig_nbformat": 4
 },
 "nbformat": 4,
 "nbformat_minor": 2
}
